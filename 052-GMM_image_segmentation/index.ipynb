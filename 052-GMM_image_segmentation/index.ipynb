{
 "cells": [
  {
   "cell_type": "code",
   "execution_count": 13,
   "metadata": {},
   "outputs": [],
   "source": [
    "import numpy as np\n",
    "import cv2\n",
    "from sklearn.mixture import GaussianMixture as GMM\n",
    "import matplotlib.pyplot as plt"
   ]
  },
  {
   "cell_type": "code",
   "execution_count": 10,
   "metadata": {},
   "outputs": [
    {
     "name": "stdout",
     "output_type": "stream",
     "text": [
      "(751, 1000, 3)\n",
      "(751, 1000)\n"
     ]
    },
    {
     "data": {
      "text/plain": [
       "True"
      ]
     },
     "execution_count": 10,
     "metadata": {},
     "output_type": "execute_result"
    }
   ],
   "source": [
    "#Use plant cells to demo the GMM on 2 components\n",
    "#Use BSE_Image to demo it on 4 components\n",
    "#USe alloy.jpg to demonstrate bic and how 2 is optimal for alloy\n",
    "img = cv2.imread(\"../images/BSE_Image.jpg\")\n",
    "print(img.shape)\n",
    "\n",
    "# Convert MxNx3 image into Kx3 where K=MxN\n",
    "img2 = img.reshape((-1,3))  #-1 reshape means, in this case MxN\n",
    "\n",
    "#covariance choices, full, tied, diag, spherical\n",
    "gmm_model = GMM(n_components=4, covariance_type='tied').fit(img2)  #tied works better than full\n",
    "gmm_labels = gmm_model.predict(img2)\n",
    "\n",
    "#Put numbers back to original shape so we can reconstruct segmented image\n",
    "original_shape = img.shape\n",
    "BSE_segmented = gmm_labels.reshape(original_shape[0], original_shape[1])\n",
    "BSE_segmented = (BSE_segmented*255)//3\n",
    "BSE_segmented = BSE_segmented.astype(np.uint8)\n",
    "print(BSE_segmented.shape)\n",
    "cv2.imwrite(\"predict_masks/BSE_segmented.jpg\", BSE_segmented)"
   ]
  },
  {
   "cell_type": "code",
   "execution_count": 12,
   "metadata": {},
   "outputs": [],
   "source": [
    "cv2.imshow(\"Original\",img)\n",
    "cv2.imshow(\"Mask\", BSE_segmented)\n",
    "cv2.waitKey(0)\n",
    "cv2.destroyAllWindows()"
   ]
  },
  {
   "cell_type": "code",
   "execution_count": null,
   "metadata": {},
   "outputs": [],
   "source": []
  }
 ],
 "metadata": {
  "kernelspec": {
   "display_name": "Python 3 (ipykernel)",
   "language": "python",
   "name": "python3"
  },
  "language_info": {
   "codemirror_mode": {
    "name": "ipython",
    "version": 3
   },
   "file_extension": ".py",
   "mimetype": "text/x-python",
   "name": "python",
   "nbconvert_exporter": "python",
   "pygments_lexer": "ipython3",
   "version": "3.12.4"
  }
 },
 "nbformat": 4,
 "nbformat_minor": 4
}
