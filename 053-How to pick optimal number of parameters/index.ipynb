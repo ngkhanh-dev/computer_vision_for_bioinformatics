{
 "cells": [
  {
   "cell_type": "code",
   "execution_count": 2,
   "id": "836b770c-2f96-44f4-8e97-58237c9d45da",
   "metadata": {},
   "outputs": [],
   "source": [
    "\"\"\"\n",
    "How do we know how many clusters?\n",
    "Use AIC/BIC\n",
    "Bayesian information criterion (BIC) can be helpful to pick the right number of parameters.\n",
    "BIC estimates the quality of a model using penalty terms for # parameters.\n",
    "If we fit data with 100 gaussians we will be overfitting. \n",
    "BIC provides optimal vale if we do not know.\n",
    "Looks asymptotic, pick the one at the elbow. \n",
    "\n",
    "\"\"\"\n",
    "import numpy as np\n",
    "import cv2"
   ]
  },
  {
   "cell_type": "code",
   "execution_count": 7,
   "id": "e85269e5-cf2d-4582-a7ff-edd824c1e090",
   "metadata": {},
   "outputs": [
    {
     "name": "stdout",
     "output_type": "stream",
     "text": [
      "GaussianMixture(covariance_type='tied', n_components=2)\n",
      "-4995746.823182086\n"
     ]
    },
    {
     "ename": "AttributeError",
     "evalue": "module 'matplotlib.pyplot' has no attribute 'xlable'",
     "output_type": "error",
     "traceback": [
      "\u001b[1;31m---------------------------------------------------------------------------\u001b[0m",
      "\u001b[1;31mAttributeError\u001b[0m                            Traceback (most recent call last)",
      "Cell \u001b[1;32mIn[7], line 31\u001b[0m\n\u001b[0;32m     29\u001b[0m \u001b[38;5;28;01mfrom\u001b[39;00m\u001b[38;5;250m \u001b[39m\u001b[38;5;21;01mmatplotlib\u001b[39;00m\u001b[38;5;250m \u001b[39m\u001b[38;5;28;01mimport\u001b[39;00m pyplot \u001b[38;5;28;01mas\u001b[39;00m plt\n\u001b[0;32m     30\u001b[0m plt\u001b[38;5;241m.\u001b[39mplot(n_components, [m\u001b[38;5;241m.\u001b[39mbic(img2) \u001b[38;5;28;01mfor\u001b[39;00m m \u001b[38;5;129;01min\u001b[39;00m gmm_models], label\u001b[38;5;241m=\u001b[39m\u001b[38;5;124m'\u001b[39m\u001b[38;5;124mBIC\u001b[39m\u001b[38;5;124m'\u001b[39m)\n\u001b[1;32m---> 31\u001b[0m \u001b[43mplt\u001b[49m\u001b[38;5;241;43m.\u001b[39;49m\u001b[43mxlable\u001b[49m(\u001b[38;5;124m'\u001b[39m\u001b[38;5;124mn_components\u001b[39m\u001b[38;5;124m'\u001b[39m)\n",
      "\u001b[1;31mAttributeError\u001b[0m: module 'matplotlib.pyplot' has no attribute 'xlable'"
     ]
    },
    {
     "data": {
      "image/png": "[encoded data removed]",
      "text/plain": [
       "<Figure size 640x480 with 1 Axes>"
      ]
     },
     "metadata": {},
     "output_type": "display_data"
    }
   ],
   "source": [
    "\n",
    "img = cv2.imread(\"../images/Alloy.jpg\")\n",
    "\n",
    "img2 = img.reshape((-1,3))\n",
    "\n",
    "from sklearn.mixture import GaussianMixture as GMM\n",
    "\n",
    "#####################\n",
    "#This part calculate BIC\n",
    "\n",
    "n = 2\n",
    "gmm_model = GMM(n, covariance_type='tied').fit(img2)\n",
    "\n",
    "print(gmm_model)\n",
    "\n",
    "bic_values = gmm_model.bic(img2)\n",
    "print(bic_values)\n",
    "\n",
    "\n",
    "\n",
    "n_components = np.arange(1,10)\n",
    "\n",
    "gmm_models = [GMM(n, covariance_type='tied').fit(img2) for n in n_components]\n",
    "\n",
    "#print(gmm_models)\n",
    "\n",
    "\n",
    "#print(GMM.bic(img2))\n",
    "\n",
    "from matplotlib import pyplot as plt\n",
    "plt.plot(n_components, [m.bic(img2) for m in gmm_models], label='BIC')\n",
    "plt.xlable('n_components')\n",
    "\n"
   ]
  },
  {
   "cell_type": "markdown",
   "id": "189b9634-6410-4714-9eae-e7401f802eb5",
   "metadata": {},
   "source": [
    "Nhìn biểu đồ, ta thấy khi số component >= 2 thì giá trị BIC giảm nhanh chóng, và cùng với việc tránh overfitting(nếu chia số lượng component quá lớn, đơn giản để hiểu thì nó như phép vi phân - sai phân, khi sai số của sai phân trở lên nhỏ tiến về 0 thì sẽ trở thành vi phân, đây cũng chính là nguyên lý của việc sử dụng phép tích phân để tính toán cũng như việc bất đẳng thức đối với các biến rời rạc cũng có thể sử dụng tạo ra biến thể tích phân)\n",
    "=> Ta chọn giá trị giảm xuống đột ngột đầu tiên là n_components = 2"
   ]
  },
  {
   "cell_type": "code",
   "execution_count": null,
   "id": "374d022b-a05d-474f-a38c-c8648b61fcf0",
   "metadata": {},
   "outputs": [],
   "source": []
  }
 ],
 "metadata": {
  "kernelspec": {
   "display_name": "Python 3 (ipykernel)",
   "language": "python",
   "name": "python3"
  },
  "language_info": {
   "codemirror_mode": {
    "name": "ipython",
    "version": 3
   },
   "file_extension": ".py",
   "mimetype": "text/x-python",
   "name": "python",
   "nbconvert_exporter": "python",
   "pygments_lexer": "ipython3",
   "version": "3.12.4"
  }
 },
 "nbformat": 4,
 "nbformat_minor": 5
}
